{
  "nbformat": 4,
  "nbformat_minor": 0,
  "metadata": {
    "colab": {
      "provenance": []
    },
    "kernelspec": {
      "name": "python3",
      "display_name": "Python 3"
    },
    "language_info": {
      "name": "python"
    }
  },
  "cells": [
    {
      "cell_type": "code",
      "execution_count": null,
      "metadata": {
        "id": "5dFG_erQ8zPG"
      },
      "outputs": [],
      "source": [
        "import random\n",
        "import math"
      ]
    },
    {
      "cell_type": "code",
      "source": [
        "coordenada_x = random.randint(1, 1000)\n",
        "coordenada_y = random.randint(1, 1000)\n",
        "par_xy = (coordenada_x, coordenada_y)\n",
        "print(par_xy)"
      ],
      "metadata": {
        "colab": {
          "base_uri": "https://localhost:8080/"
        },
        "id": "zicM7VKl2cq-",
        "outputId": "cc6d5cf4-32b7-48f9-d9f7-6562dbd02a21"
      },
      "execution_count": null,
      "outputs": [
        {
          "output_type": "stream",
          "name": "stdout",
          "text": [
            "(161, 765)\n"
          ]
        }
      ]
    },
    {
      "cell_type": "code",
      "source": [
        "def criar_cidades(numero_cidades):\n",
        "  coordenadas_das_cidades = []\n",
        "\n",
        "  for cidade in range(numero_cidades):\n",
        "    coordenada_x = random.randint(1, 1000)\n",
        "    coordenada_y = random.randint(1, 1000)\n",
        "    par_xy = (coordenada_x, coordenada_y)\n",
        "\n",
        "    coordenadas_das_cidades.append(par_xy)\n",
        "\n",
        "  return coordenadas_das_cidades"
      ],
      "metadata": {
        "id": "2k8n92CsQVn6"
      },
      "execution_count": null,
      "outputs": []
    },
    {
      "cell_type": "code",
      "source": [
        "def calcular_distancia(cidade1, cidade2):\n",
        "  x1, y1 = cidade1\n",
        "  x2, y2 = cidade2\n",
        "\n",
        "  distancia = math.sqrt((abs(x2-x1) ** 2) +  (abs(y2-y1) ** 2))\n",
        "\n",
        "  return distancia"
      ],
      "metadata": {
        "id": "WCGneza2SLIm"
      },
      "execution_count": null,
      "outputs": []
    },
    {
      "cell_type": "code",
      "source": [
        "def criar_cromossomo(numero_de_cidades):\n",
        "  cromossomo = []\n",
        "  for i in range(numero_de_cidades):\n",
        "    numero_sorteado = random.randint(0,numero_de_cidades- 1)\n",
        "    while numero_sorteado in cromossomo:\n",
        "      numero_sorteado = random.randint(0,numero_de_cidades - 1)\n",
        "    cromossomo.append(numero_sorteado)\n",
        "  return cromossomo\n",
        "'''\n",
        "[2] =  numero sorteado == 2\n",
        "[2] = (sorteia de novo)\n",
        "[2,3]  = numero sorteado  == 3\n",
        "\n",
        "'''"
      ],
      "metadata": {
        "id": "RRCb035XAcIf"
      },
      "execution_count": null,
      "outputs": []
    },
    {
      "cell_type": "code",
      "source": [
        "def iniciar_populacao(tamanho_da_populacao, numero_de_cidades):\n",
        "  populacao = []\n",
        "  for i in range(tamanho_da_populacao):\n",
        "    cidade = criar_cromossomo(numero_de_cidades)\n",
        "    populacao.append(cidade)\n",
        "  return populacao\n",
        "\n",
        "'''\n",
        " cidade = [1,2,3,4,5,6,9,10,7,8]\n",
        "'''"
      ],
      "metadata": {
        "id": "xCOb8AAwOMbl"
      },
      "execution_count": null,
      "outputs": []
    },
    {
      "cell_type": "code",
      "source": [
        "def calcular_fitness(cromossomo,cidade):\n",
        "  soma = 0\n",
        "  for i in range(len(cromossomo)-1):\n",
        "    soma += calcular_distancia(cidade[i], cidade[i+1])\n",
        "  return 1/soma\n",
        "\n",
        "'''\n",
        "soma = 0\n",
        "cidade = [1,2,3,4,5,6,9,10,7,8]\n",
        "soma + distancia(cidade[0], cidade[1])\n",
        "0 + 124 = 124\n",
        "soma + distancia(cidade[1], cidade[2])\n",
        "\n",
        "124 + 235 = 359\n",
        "\n",
        ".\n",
        ".\n",
        ".\n",
        "\n",
        "1/soma\n",
        "\n",
        "'''"
      ],
      "metadata": {
        "id": "t4SRAScE88ci"
      },
      "execution_count": null,
      "outputs": []
    },
    {
      "cell_type": "code",
      "source": [
        "def selecionar_rota(populacao,fitness):\n",
        "  fitness_total = sum(fitness)\n",
        "  numero_sorteado = random.uniform(0, fitness_total)\n",
        "  fitness_acumulado = 0\n",
        "  for i in range(len(populacao)):\n",
        "    fitness_acumulado += fitness[i]\n",
        "    if fitness_acumulado >= numero_sorteado:\n",
        "      return populacao[i], fitness[i]\n",
        "\n",
        "  posicao_da_cidade_selecionada = random.randint(0, len(populacao) - 1)\n",
        "  return populacao[posicao_da_cidade_selecionada], fitness[posicao_da_cidade_selecionada]"
      ],
      "metadata": {
        "id": "OHqn5ra6C5MC"
      },
      "execution_count": null,
      "outputs": []
    },
    {
      "cell_type": "code",
      "source": [
        "def realizar_crossover(pai, mae, taxa_crossover):\n",
        "    numero_sorteado = random.uniform(0, 1)\n",
        "    if numero_sorteado <= taxa_crossover:\n",
        "        tamanho_cromossomo = len(mae)\n",
        "        ponto_de_corte = random.randint(1, tamanho_cromossomo - 1)\n",
        "        filho_1 = [None] * tamanho_cromossomo\n",
        "        filho_2 = [None] * tamanho_cromossomo\n",
        "\n",
        "        for i in range(ponto_de_corte, tamanho_cromossomo):\n",
        "            filho_1[i] = mae[i]\n",
        "            filho_2[i] = pai[i]\n",
        "\n",
        "        posicao_filho_1 = posicao_filho_2 = ponto_de_corte\n",
        "        for gene in pai:\n",
        "            if gene not in filho_1:\n",
        "                filho_1[posicao_filho_1] = gene\n",
        "                posicao_filho_1 = (posicao_filho_1 + 1) % tamanho_cromossomo\n",
        "\n",
        "        for gene in mae:\n",
        "            if gene not in filho_2:\n",
        "                filho_2[posicao_filho_2] = gene\n",
        "                posicao_filho_2 = (posicao_filho_2 + 1) % tamanho_cromossomo\n",
        "\n",
        "        return filho_1, filho_2\n",
        "    else:\n",
        "        return pai[:], mae[:]"
      ],
      "metadata": {
        "id": "AlnEXuEqJYCb"
      },
      "execution_count": null,
      "outputs": []
    },
    {
      "cell_type": "code",
      "source": [
        "def realizar_mutacao(cidade,taxa_mutacao):\n",
        "    if random.uniform(0,1) <= taxa_mutacao:\n",
        "      genes = cidade\n",
        "      gene_1 = randint(0, len(genes) -1)\n",
        "      gene_2 = randint(0, len(genes) -1)\n",
        "      auxilia_gene = genes[gene_1]\n",
        "      genes[gene_1] = genes[genes_2]\n",
        "      genes[2] = auxilia_gene\n",
        "  return genes\n",
        "\n",
        "\n"
      ],
      "metadata": {
        "id": "sNivZAWULRn6"
      },
      "execution_count": null,
      "outputs": []
    },
    {
      "cell_type": "code",
      "source": [
        "def selecionar_populacao(populacao, fitness, taxa_sobrevivencia):\n",
        "  populacao_sobrevivente = []\n",
        "  fitness_sobrevivente = []\n",
        "  numero_de_sobreviventes = int(taxa_sobrevivencia * len(populacao))\n",
        "  for i in range(numero_de_sobreviventes):\n",
        "    sobrevivente, fitness_da_populacao_sobrevivente = selecionar_rota(populacao, fitness)\n",
        "    populacao_sobrevivente.append(sobrevivente)\n",
        "    fitness_sobrevivente.append(fitness_da_populacao_sobrevivente)\n",
        "  return populacao_sobrevivente, fitness_sobrevivente"
      ],
      "metadata": {
        "id": "zXI0IW2TNZVW"
      },
      "execution_count": null,
      "outputs": []
    },
    {
      "cell_type": "code",
      "source": [
        "taxa_sobrevivencia = 0.7\n",
        "taxa_crossover = 0.9\n",
        "taxa_mutacao = 0.6\n",
        "tamanho_da_populacao = 10\n",
        "numero_geracoes = 3\n",
        "numero_cidades = 20\n",
        "cidades = criar_cidades(numero_cidades)\n",
        "\n",
        "populacao = iniciar_populacao(tamanho_da_populacao, numero_cidades)\n",
        "\n",
        "for geracao in range(numero_geracoes):\n",
        "  print(f'Geração {geracao}')\n",
        "\n",
        "  fitness = []\n",
        "\n",
        "  for i, cromossomo in enumerate(populacao):\n",
        "    fitness.append(calcular_fitness(cromossomo, cidades))\n",
        "\n",
        "\n",
        "  for i, individuo in enumerate(populacao):\n",
        "    print(individuo, 'Fitness: ', fitness[i])\n",
        "\n",
        "  print('--------------------------------------')\n",
        "\n",
        "\n",
        "  populacao_sobrevivente, fitness_sobrevivente = selecionar_populacao(populacao, fitness, taxa_sobrevivencia)\n",
        "  nova_populacao = []\n",
        "\n",
        "  for i in range(tamanho_da_populacao // 2):\n",
        "    pai, fitness_pai = selecionar_rota(populacao_sobrevivente, fitness_sobrevivente)\n",
        "    mae, fitness_mae = selecionar_rota(populacao_sobrevivente, fitness_sobrevivente)\n",
        "\n",
        "\n",
        "    filho_1, filho_2 = realizar_crossover(pai, mae, taxa_crossover)\n",
        "\n",
        "    nova_populacao.append(filho_1)\n",
        "    nova_populacao.append(filho_2)\n",
        "\n",
        "  for i in range(len(nova_populacao)):\n",
        "    cidade = nova_populacao[i]\n",
        "    cidade_mutada = realizar_mutacao(cidade, taxa_mutacao)\n",
        "\n",
        "    nova_populacao[i] = cidade_mutada\n",
        "\n",
        "  populacao = nova_populacao\n",
        "\n"
      ],
      "metadata": {
        "colab": {
          "base_uri": "https://localhost:8080/"
        },
        "id": "Xr7VS62DPIPj",
        "outputId": "492ecc80-eb1f-477d-db50-abef5241ce6b"
      },
      "execution_count": null,
      "outputs": [
        {
          "output_type": "stream",
          "name": "stdout",
          "text": [
            "Geração 0\n",
            "[7, 2, 1, 14, 8, 6, 5, 16, 0, 15, 3, 9, 11, 18, 17, 12, 13, 19, 10, 4] Fitness:  0.00012134960033670406\n",
            "[14, 7, 0, 5, 13, 10, 2, 3, 17, 16, 9, 15, 18, 11, 6, 8, 4, 1, 19, 12] Fitness:  0.00012134960033670406\n",
            "[5, 6, 1, 3, 13, 16, 9, 4, 12, 11, 7, 0, 8, 10, 19, 15, 17, 18, 2, 14] Fitness:  0.00012134960033670406\n",
            "[15, 16, 17, 8, 10, 6, 5, 12, 2, 7, 18, 4, 13, 19, 1, 3, 14, 0, 9, 11] Fitness:  0.00012134960033670406\n",
            "[11, 12, 19, 9, 10, 7, 8, 13, 6, 16, 18, 5, 15, 2, 3, 0, 14, 4, 1, 17] Fitness:  0.00012134960033670406\n",
            "[12, 8, 13, 9, 1, 2, 14, 0, 19, 10, 7, 3, 11, 6, 16, 18, 17, 5, 15, 4] Fitness:  0.00012134960033670406\n",
            "[3, 10, 19, 6, 13, 11, 14, 7, 0, 9, 12, 17, 15, 8, 18, 4, 1, 5, 2, 16] Fitness:  0.00012134960033670406\n",
            "[14, 10, 1, 18, 4, 17, 2, 0, 19, 7, 15, 9, 5, 3, 12, 6, 16, 13, 8, 11] Fitness:  0.00012134960033670406\n",
            "[15, 5, 1, 17, 10, 13, 6, 19, 8, 14, 9, 4, 12, 11, 7, 2, 16, 0, 3, 18] Fitness:  0.00012134960033670406\n",
            "[4, 11, 16, 18, 6, 7, 5, 3, 12, 0, 14, 1, 10, 9, 19, 15, 2, 13, 8, 17] Fitness:  0.00012134960033670406\n",
            "--------------------------------------\n",
            "Geração 1\n",
            "[15, 5, 1, 17, 10, 13, 6, 4, 12, 11, 7, 1, 8, 10, 19, 15, 17, 18, 2, 14] Fitness:  0.00012134960033670406\n",
            "[5, 6, 1, 3, 13, 16, 9, 19, 8, 14, 9, 4, 12, 11, 7, 2, 16, 1, 3, 18] Fitness:  0.00012134960033670406\n",
            "[5, 6, 1, 5, 13, 10, 2, 3, 17, 16, 9, 15, 18, 11, 6, 8, 4, 1, 19, 12] Fitness:  0.00012134960033670406\n",
            "[14, 7, 1, 3, 13, 16, 9, 4, 12, 11, 7, 0, 8, 10, 19, 15, 17, 18, 2, 14] Fitness:  0.00012134960033670406\n",
            "[5, 6, 1, 3, 13, 16, 9, 4, 12, 11, 7, 1, 8, 11, 7, 2, 16, 0, 3, 18] Fitness:  0.00012134960033670406\n",
            "[15, 5, 1, 17, 10, 13, 6, 19, 8, 14, 9, 4, 12, 10, 19, 15, 17, 18, 2, 14] Fitness:  0.00012134960033670406\n",
            "[15, 5, 1, 17, 10, 13, 6, 19, 8, 14, 9, 4, 12, 11, 7, 2, 16, 1, 3, 18] Fitness:  0.00012134960033670406\n",
            "[15, 5, 1, 17, 10, 13, 6, 19, 8, 14, 9, 4, 12, 11, 7, 2, 16, 1, 3, 18] Fitness:  0.00012134960033670406\n",
            "[15, 5, 1, 17, 10, 13, 6, 19, 8, 14, 9, 4, 12, 11, 7, 2, 16, 1, 3, 18] Fitness:  0.00012134960033670406\n",
            "[15, 5, 1, 17, 10, 13, 6, 19, 8, 14, 9, 4, 12, 11, 7, 2, 16, 0, 3, 18] Fitness:  0.00012134960033670406\n",
            "--------------------------------------\n",
            "Geração 2\n",
            "[5, 6, 1, 3, 13, 16, 9, 4, 12, 11, 7, 1, 8, 10, 19, 15, 17, 18, 2, 14] Fitness:  0.00012134960033670406\n",
            "[14, 7, 1, 3, 13, 16, 9, 4, 12, 11, 7, 1, 8, 11, 7, 2, 16, 1, 3, 18] Fitness:  0.00012134960033670406\n",
            "[5, 6, 1, 3, 10, 13, 6, 19, 8, 14, 9, 4, 12, 11, 7, 2, 16, 1, 3, 18] Fitness:  0.00012134960033670406\n",
            "[15, 5, 1, 17, 13, 16, 9, 19, 8, 14, 9, 4, 12, 11, 7, 2, 16, 1, 3, 18] Fitness:  0.00012134960033670406\n",
            "[14, 7, 1, 3, 13, 16, 9, 19, 8, 14, 9, 4, 12, 11, 7, 2, 16, 0, 3, 18] Fitness:  0.00012134960033670406\n",
            "[15, 5, 1, 17, 10, 13, 6, 4, 12, 11, 7, 0, 8, 10, 19, 15, 17, 18, 2, 14] Fitness:  0.00012134960033670406\n",
            "[14, 7, 1, 3, 13, 16, 9, 4, 12, 11, 7, 1, 8, 10, 19, 15, 17, 18, 2, 14] Fitness:  0.00012134960033670406\n",
            "[15, 5, 1, 17, 10, 13, 6, 19, 8, 14, 9, 4, 12, 11, 7, 2, 16, 1, 3, 18] Fitness:  0.00012134960033670406\n",
            "[5, 6, 1, 3, 13, 16, 9, 19, 8, 14, 7, 0, 8, 10, 19, 15, 17, 18, 2, 14] Fitness:  0.00012134960033670406\n",
            "[14, 7, 1, 3, 13, 16, 9, 4, 12, 11, 9, 4, 12, 11, 7, 2, 16, 1, 3, 18] Fitness:  0.00012134960033670406\n",
            "--------------------------------------\n"
          ]
        }
      ]
    },
    {
      "cell_type": "code",
      "source": [
        "# import matplotlib.pyplot as plt\n",
        "\n",
        "# N = 10\n",
        "# cidades = criar_cidades(N)\n",
        "# # print(cidades[10], cidades[11])\n",
        "# # print(calcular_distancia(cidades[10], cidades[11]))\n",
        "# # print(calcular_distancia(cidades[11], cidades[10]))\n",
        "\n",
        "# cromossomo = list(range(N))\n",
        "# random.shuffle(cromossomo)\n",
        "\n",
        "# fig, ax = plt.subplots(figsize=(5, 5))\n",
        "# for cidade in cidades:\n",
        "#   ax.scatter(*cidade);\n",
        "\n",
        "# for i in range(N-1):\n",
        "#   ax.plot(\n",
        "#       [cidades[cromossomo[i]][0], cidades[cromossomo[i+1]][0]],\n",
        "#       [cidades[cromossomo[i]][1], cidades[cromossomo[i+1]][1]],\n",
        "#       c='blue'\n",
        "#   )"
      ],
      "metadata": {
        "id": "1UH3Fda47uWV"
      },
      "execution_count": null,
      "outputs": []
    }
  ]
}